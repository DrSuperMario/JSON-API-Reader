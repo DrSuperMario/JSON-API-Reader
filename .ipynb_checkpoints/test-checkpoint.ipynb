{
 "cells": [
  {
   "cell_type": "code",
   "execution_count": 1,
   "metadata": {},
   "outputs": [],
   "source": [
    "import requests\n",
    "import json\n",
    "import re\n",
    "from datetime import datetime as dt\n",
    "import pandas as pd\n",
    "from pandas import json_normalize as jsn\n"
   ]
  },
  {
   "cell_type": "code",
   "execution_count": 2,
   "metadata": {},
   "outputs": [],
   "source": [
    "data = requests.get(\"http://127.0.0.1:5000/markets\")\n",
    "web_data = data.content\n",
    "jsonify = json.loads(web_data)"
   ]
  },
  {
   "cell_type": "code",
   "execution_count": 197,
   "metadata": {},
   "outputs": [],
   "source": [
    "class CollectData:\n",
    "    \n",
    "    def __init__(self):\n",
    "        self.markets = 'markets'\n",
    "        self.signals = 'Signals'\n",
    "        \n",
    "    def get_all_data(self): \n",
    "        df = pd.concat([jsn(jsonify[self.markets][x][self.signals]) for x in range(len(jsonify[self.markets]))])   \n",
    "        df = df.set_index(pd.to_datetime(df['date'])).sort_index(ascending=True)\n",
    "        df.index = df.index.to_series().apply(lambda x: dt.strftime(x, '%H.%M.%S - %m.%d.%Y'))\n",
    "        df = df.drop('date', axis=1)\n",
    "        return df\n",
    "    \n",
    "    def get_group_data(self):\n",
    "        df = self.get_all_data()\n",
    "        return df.groupby(['market_id','date','signal_name','opinion','change']).count()\n",
    "        \n",
    "\n",
    "    def find_data_by_group(self, market_id):\n",
    "        df = self.get_all_data()\n",
    "        dfgroups = df.groupby('market_id')\n",
    "        return dfgroups.get_group(market_id)\n",
    "    "
   ]
  },
  {
   "cell_type": "code",
   "execution_count": 198,
   "metadata": {},
   "outputs": [],
   "source": []
  },
  {
   "cell_type": "code",
   "execution_count": null,
   "metadata": {},
   "outputs": [],
   "source": []
  },
  {
   "cell_type": "code",
   "execution_count": 127,
   "metadata": {},
   "outputs": [],
   "source": []
  },
  {
   "cell_type": "code",
   "execution_count": 129,
   "metadata": {},
   "outputs": [
    {
     "data": {
      "text/plain": [
       "<__main__.CollectData at 0x1ebbdfe5c48>"
      ]
     },
     "execution_count": 129,
     "metadata": {},
     "output_type": "execute_result"
    }
   ],
   "source": []
  },
  {
   "cell_type": "code",
   "execution_count": null,
   "metadata": {},
   "outputs": [],
   "source": []
  },
  {
   "cell_type": "code",
   "execution_count": null,
   "metadata": {},
   "outputs": [],
   "source": []
  },
  {
   "cell_type": "code",
   "execution_count": null,
   "metadata": {},
   "outputs": [],
   "source": []
  },
  {
   "cell_type": "code",
   "execution_count": null,
   "metadata": {},
   "outputs": [],
   "source": []
  },
  {
   "cell_type": "code",
   "execution_count": null,
   "metadata": {},
   "outputs": [],
   "source": []
  },
  {
   "cell_type": "code",
   "execution_count": null,
   "metadata": {},
   "outputs": [],
   "source": []
  },
  {
   "cell_type": "code",
   "execution_count": null,
   "metadata": {},
   "outputs": [],
   "source": []
  }
 ],
 "metadata": {
  "kernelspec": {
   "display_name": "Python 3",
   "language": "python",
   "name": "python3"
  },
  "language_info": {
   "codemirror_mode": {
    "name": "ipython",
    "version": 3
   },
   "file_extension": ".py",
   "mimetype": "text/x-python",
   "name": "python",
   "nbconvert_exporter": "python",
   "pygments_lexer": "ipython3",
   "version": "3.7.6"
  }
 },
 "nbformat": 4,
 "nbformat_minor": 4
}
